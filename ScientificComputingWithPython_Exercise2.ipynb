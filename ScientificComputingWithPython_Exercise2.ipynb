{
  "nbformat": 4,
  "nbformat_minor": 0,
  "metadata": {
    "colab": {
      "provenance": [],
      "authorship_tag": "ABX9TyNVvOqSR5k8KgGDjyF99zvq",
      "include_colab_link": true
    },
    "kernelspec": {
      "name": "python3",
      "display_name": "Python 3"
    },
    "language_info": {
      "name": "python"
    }
  },
  "cells": [
    {
      "cell_type": "markdown",
      "metadata": {
        "id": "view-in-github",
        "colab_type": "text"
      },
      "source": [
        "<a href=\"https://colab.research.google.com/github/moonesm3/ScientificComputingWithPython2022/blob/moones_mobaraki/ScientificComputingWithPython_Exercise2.ipynb\" target=\"_parent\"><img src=\"https://colab.research.google.com/assets/colab-badge.svg\" alt=\"Open In Colab\"/></a>"
      ]
    },
    {
      "cell_type": "markdown",
      "source": [
        "# ***Problem No1. Global variables:***"
      ],
      "metadata": {
        "id": "n1rJHaWIDGTN"
      }
    },
    {
      "cell_type": "markdown",
      "source": [
        "Convert the function  into a function that doesn't use global variables and that does not modify the original list"
      ],
      "metadata": {
        "id": "pVhrRX-SDN8V"
      }
    },
    {
      "cell_type": "code",
      "execution_count": null,
      "metadata": {
        "colab": {
          "base_uri": "https://localhost:8080/"
        },
        "id": "MKxW7zgUDD_b",
        "outputId": "dbed1fbe-12c6-4cde-c75e-3d55dddae509"
      },
      "outputs": [
        {
          "output_type": "stream",
          "name": "stdout",
          "text": [
            "[1, 2, 3, 0, 1, 2, 3, 4]\n",
            "[1, 2, 3, 0, 1, 2, 3, 4]\n"
          ]
        }
      ],
      "source": [
        "x = 5\n",
        "\n",
        "def f(alist):\n",
        "    for i in range(x):\n",
        "        alist.append(i)\n",
        "    return alist\n",
        "\n",
        "alist = [1, 2, 3]\n",
        "ans = f(alist)\n",
        "print(ans)\n",
        "print(alist) # alist has been changed"
      ]
    },
    {
      "cell_type": "markdown",
      "source": [
        "After changes:"
      ],
      "metadata": {
        "id": "NGdNzZ9DDXuz"
      }
    },
    {
      "cell_type": "code",
      "source": [
        "x = 5\n",
        "def f(alist):\n",
        "  alist = [1, 2, 3]\n",
        "  for i in range(x):\n",
        "      alist.append(i)\n",
        "  return alist\n",
        "\n",
        "alist = [1, 2, 3]\n",
        "ans = f(alist)\n",
        "print(ans)\n",
        "print(alist) \n",
        "print(\"Now the alist won't change because the function use the copy of that not the original one!\")"
      ],
      "metadata": {
        "colab": {
          "base_uri": "https://localhost:8080/"
        },
        "id": "34pEA_-JDjGk",
        "outputId": "a3636cd0-8b23-4e0b-f70a-162f1dc745ee"
      },
      "execution_count": null,
      "outputs": [
        {
          "output_type": "stream",
          "name": "stdout",
          "text": [
            "[1, 2, 3, 0, 1, 2, 3, 4]\n",
            "[1, 2, 3]\n",
            "Now the alist won't change because the function use the copy of that not the original one!\n"
          ]
        }
      ]
    },
    {
      "cell_type": "markdown",
      "source": [
        "# ***Problem No2. List comprehension:***"
      ],
      "metadata": {
        "id": "ycHeChJmEW58"
      }
    },
    {
      "cell_type": "markdown",
      "source": [
        "Write the following expression using a list comprehension:"
      ],
      "metadata": {
        "id": "Y8xeFttEFIUc"
      }
    },
    {
      "cell_type": "code",
      "source": [
        "ans = list(map(lambda x: x * x, filter(lambda x: x % 2 == 1, range(10))))\n",
        "print(ans)"
      ],
      "metadata": {
        "colab": {
          "base_uri": "https://localhost:8080/"
        },
        "id": "tsTKdqJDFPpz",
        "outputId": "40c3aa47-9b8c-4858-f7d3-9dbaf690cc33"
      },
      "execution_count": null,
      "outputs": [
        {
          "output_type": "stream",
          "name": "stdout",
          "text": [
            "[1, 9, 25, 49, 81]\n"
          ]
        }
      ]
    },
    {
      "cell_type": "markdown",
      "source": [
        "Answer:"
      ],
      "metadata": {
        "id": "HpBRXi7DFaME"
      }
    },
    {
      "cell_type": "code",
      "source": [
        "l = []\n",
        "for i in range(1,10):\n",
        "  if (i % 2 == 1):\n",
        "    newi = i ** 2 \n",
        "    l.append(newi)\n",
        "print(l)"
      ],
      "metadata": {
        "colab": {
          "base_uri": "https://localhost:8080/"
        },
        "id": "gxCXNsQbFbmb",
        "outputId": "998ade7e-7b8c-43ce-f6f5-300b10ac8155"
      },
      "execution_count": null,
      "outputs": [
        {
          "output_type": "stream",
          "name": "stdout",
          "text": [
            "[1, 9, 25, 49, 81]\n"
          ]
        }
      ]
    },
    {
      "cell_type": "markdown",
      "source": [
        "# ***Problem No3. Filter list:***"
      ],
      "metadata": {
        "id": "bz-6ifUsGEg-"
      }
    },
    {
      "cell_type": "markdown",
      "source": [
        "Using the filter() hof, define a function that takes a list of words and an integer n as arguments, and returns a list of words that are shorter than n."
      ],
      "metadata": {
        "id": "Ms1eqaaYGQrC"
      }
    },
    {
      "cell_type": "code",
      "source": [
        "def IsShorter(l):\n",
        "  m = []\n",
        "  for i in range(len(l)):\n",
        "     if int(l[i]) < n:\n",
        "       m.append(i)\n",
        "  return m\n",
        "l = input(\"Enter a list:\").split()\n",
        "n = int(input(\"Enter a number to compare with it:\"))\n",
        "print(list(filter(IsShorter, l)))"
      ],
      "metadata": {
        "colab": {
          "base_uri": "https://localhost:8080/"
        },
        "id": "xy5yUS1tHIWF",
        "outputId": "f65f07ad-3d23-4884-ca43-24637b781fa0"
      },
      "execution_count": null,
      "outputs": [
        {
          "output_type": "stream",
          "name": "stdout",
          "text": [
            "Enter a list:1 2 3 4\n",
            "Enter a number to compare with it:3\n",
            "['1', '2']\n"
          ]
        }
      ]
    },
    {
      "cell_type": "markdown",
      "source": [
        "# ***Problem No4.Map dictionary:***"
      ],
      "metadata": {
        "id": "cjqZf-70g4qJ"
      }
    },
    {
      "cell_type": "markdown",
      "source": [
        "Consider the following dictionary:\n",
        "\n",
        "lang = {\"Python\" : 3, \"Java\" : '', \"Cplusplus\" : 'test', \"Php\" : 0.7}\n",
        "\n",
        "Write a function that takes the above dictionary and uses the map() higher order function to return a list that contains the length of the keys of the dictionary."
      ],
      "metadata": {
        "id": "hB3fToaPiYXU"
      }
    },
    {
      "cell_type": "code",
      "source": [
        "def NumberOfKeys(lang):\n",
        "  count = 0\n",
        "  l = lang\n",
        "  for i in range(0,len(l)):\n",
        "    count += 1\n",
        "  return count\n",
        "lang = {\"Python\" : 3, \"Java\" : '', \"Cplusplus\" : 'test', \"Php\" : 0.7} \n",
        "x = list(map(NumberOfKeys,lang))\n",
        "print(\"The keys are:\", lang.keys())\n",
        "m = len(x)\n",
        "print(\"The count of the keys is:\" ,[m])"
      ],
      "metadata": {
        "colab": {
          "base_uri": "https://localhost:8080/"
        },
        "id": "zXscZR8Wi-RU",
        "outputId": "18cfcbd9-3bd3-4a63-b406-519f6c66ef6b"
      },
      "execution_count": null,
      "outputs": [
        {
          "output_type": "stream",
          "name": "stdout",
          "text": [
            "The keys are: dict_keys(['Python', 'Java', 'Cplusplus', 'Php'])\n",
            "The count of the keys is: [4]\n"
          ]
        }
      ]
    },
    {
      "cell_type": "markdown",
      "source": [
        "# ***Problem No5.Lambda functions:***"
      ],
      "metadata": {
        "id": "1PwyTGJj6FIM"
      }
    },
    {
      "cell_type": "markdown",
      "source": [
        "Write a Python program that sorts the following list of tuples using a lambda function, according to the alphabetical order of the first element of the tuple:\n",
        "\n",
        "language_scores = [('Python', 97), ('Cplusplus', 81), ('Php', 45), ('Java', 32)]\n",
        "\n",
        "Hint: use the method sort() and its argument key of the list data structure."
      ],
      "metadata": {
        "id": "R7svRz7O6Knz"
      }
    },
    {
      "cell_type": "code",
      "source": [
        "language_scores = [('Python', 97), ('Cplusplus', 81), ('Php', 45), ('Java', 32)]\n",
        "ReverseList = sorted(language_scores, key = lambda x : x[0] , reverse= False)\n",
        "print(\"Reverse sorted list: \",ReverseList)\n",
        "print(\"original list: \",language_scores)"
      ],
      "metadata": {
        "colab": {
          "base_uri": "https://localhost:8080/"
        },
        "id": "s6gkDJLV6ncM",
        "outputId": "f4aaeaf5-66f3-4d4d-9cb0-7740fcb6dc2e"
      },
      "execution_count": null,
      "outputs": [
        {
          "output_type": "stream",
          "name": "stdout",
          "text": [
            "Reverse sorted list:  [('Cplusplus', 81), ('Java', 32), ('Php', 45), ('Python', 97)]\n",
            "original list:  [('Python', 97), ('Cplusplus', 81), ('Php', 45), ('Java', 32)]\n"
          ]
        }
      ]
    },
    {
      "cell_type": "markdown",
      "source": [
        "# ***Problem No6.Nested functions***"
      ],
      "metadata": {
        "id": "kEsCz-l47grM"
      }
    },
    {
      "cell_type": "markdown",
      "source": [
        "Write two functions: one that returns the square of a number, and one that returns its cube.\n",
        "\n",
        "Then, write a third function that returns the number raised to the 6th power, using only the two previous functions."
      ],
      "metadata": {
        "id": "SF5Fggiw7mbd"
      }
    },
    {
      "cell_type": "code",
      "source": [
        "def Square(x):\n",
        "  return x ** 2\n",
        "def Cube(x):\n",
        "  return x ** 3\n",
        "def SixthPower(x):\n",
        "  return Cube(Square(x))\n",
        "x = int(input(\"Enter a number:\"))\n",
        "print(\"The square of the number is:\", Square(x))\n",
        "print(\"The cube of the number is:\", Cube(x))\n",
        "print(\"The 6th power of the number is:\", SixthPower(x))"
      ],
      "metadata": {
        "colab": {
          "base_uri": "https://localhost:8080/"
        },
        "id": "aazG7mxh7nQ0",
        "outputId": "840002b3-f442-44c6-bb3e-8176aa79d720"
      },
      "execution_count": null,
      "outputs": [
        {
          "output_type": "stream",
          "name": "stdout",
          "text": [
            "Enter a number:2\n",
            "The square of the number is: 4\n",
            "The cube of the number is: 8\n",
            "The 6th power of the number is: 64\n"
          ]
        }
      ]
    },
    {
      "cell_type": "markdown",
      "source": [
        "# ***Problem No7.Decorators:***"
      ],
      "metadata": {
        "id": "m6dYbd7ogI_j"
      }
    },
    {
      "cell_type": "markdown",
      "source": [
        "Write a decorator named hello that makes every wrapped function print “Hello World!” each time the function is called.\n",
        "\n",
        "The wrapped function should look like:\n",
        "\n",
        "@hello\n",
        "\n",
        "def square(x):\n",
        "\n",
        "    return x*x"
      ],
      "metadata": {
        "id": "3TUM5DBMgNI7"
      }
    },
    {
      "cell_type": "code",
      "source": [
        "def hello(func):\n",
        "    def wrapped():\n",
        "        func()\n",
        "    return wrapped\n",
        "\n",
        "@hello\n",
        "def hello_world():\n",
        "    print (\"Hello World!\")\n",
        "    \n",
        "hello_world()"
      ],
      "metadata": {
        "colab": {
          "base_uri": "https://localhost:8080/"
        },
        "id": "UTIohVFvgQhb",
        "outputId": "737f3be2-92dd-408e-c24b-b57001817b3f"
      },
      "execution_count": null,
      "outputs": [
        {
          "output_type": "stream",
          "name": "stdout",
          "text": [
            "Hello World!\n"
          ]
        }
      ]
    },
    {
      "cell_type": "markdown",
      "source": [
        "# ***Problem No8.The Fibonacci sequence (part 2):***"
      ],
      "metadata": {
        "id": "kgAHjYv5izE8"
      }
    },
    {
      "cell_type": "markdown",
      "source": [
        "Calculate the first 20 numbers of the Fibonacci sequence using a recursive function."
      ],
      "metadata": {
        "id": "c5ST1ztni7lM"
      }
    },
    {
      "cell_type": "code",
      "source": [
        "def Fibonacci(n):\n",
        "    if n <= 1:\n",
        "        return n\n",
        "    return Fibonacci(n-1) + Fibonacci(n-2)\n",
        "n = 0\n",
        "for i in range(0,20):\n",
        "  print(Fibonacci(n))\n",
        "  n += 1"
      ],
      "metadata": {
        "colab": {
          "base_uri": "https://localhost:8080/"
        },
        "id": "AUS8ADrhi9_d",
        "outputId": "7b3cf5bd-55d2-4d69-dfa2-bdcfa77f2134"
      },
      "execution_count": null,
      "outputs": [
        {
          "output_type": "stream",
          "name": "stdout",
          "text": [
            "0\n",
            "1\n",
            "1\n",
            "2\n",
            "3\n",
            "5\n",
            "8\n",
            "13\n",
            "21\n",
            "34\n",
            "55\n",
            "89\n",
            "144\n",
            "233\n",
            "377\n",
            "610\n",
            "987\n",
            "1597\n",
            "2584\n",
            "4181\n"
          ]
        }
      ]
    },
    {
      "cell_type": "markdown",
      "source": [
        "# ***Problem No9.The Fibonacci sequence (part 3):***"
      ],
      "metadata": {
        "id": "X-ZOjiJkk8TC"
      }
    },
    {
      "cell_type": "markdown",
      "source": [
        "Run both the Fibonacci recursive function from the previous exercise, and the Fibonacci function from 01ex that use only for and while loops.\n",
        "\n",
        "Measure the execution code of the two functions with timeit (link to the doc), for example:\n",
        "\n",
        "%timeit loopFibonacci(20)\n",
        "\n",
        "%timeit recursiveFibonacci(20)"
      ],
      "metadata": {
        "id": "Si0fZzwqlCIL"
      }
    },
    {
      "cell_type": "code",
      "source": [
        "#Fibonacci from first exercise:\n",
        "def Fib(limit):\n",
        "  FirstNumber = 1 \n",
        "  SecondNumber = 1\n",
        "  count = 0\n",
        "  limit = limit - 2\n",
        "  while count < limit:\n",
        "        NextNumber = FirstNumber + SecondNumber\n",
        "        FirstNumber = SecondNumber\n",
        "        SecondNumber = NextNumber\n",
        "        count += 1\n",
        "  return NextNumber\n",
        "Fib(20) \n",
        "loop='''\n",
        "def Fib(limit):\n",
        "  FirstNumber = 0 \n",
        "  SecondNumber = 1\n",
        "  count = 0\n",
        "  limit = limit - 2\n",
        "  while count < limit:\n",
        "        NextNumber = FirstNumber + SecondNumber\n",
        "        FirstNumber = SecondNumber\n",
        "        SecondNumber = NextNumber\n",
        "        count += 1\n",
        "  return NextNumber\n",
        "Fib(20) \n",
        "'''"
      ],
      "metadata": {
        "id": "VIhOwsvVlFD-"
      },
      "execution_count": null,
      "outputs": []
    },
    {
      "cell_type": "code",
      "source": [
        "#Fibonacci from Second exercise:\n",
        "def Fibonacci(n):\n",
        "    if n <= 1:\n",
        "        return n\n",
        "    return Fibonacci(n-2) + Fibonacci(n-1)\n",
        "#n = 0\n",
        "#for i in range(0,20):\n",
        "  #print(Fibonacci(n))\n",
        " # n += 1\n",
        "\n",
        "recursive='''\n",
        "def Fibonacci(n):\n",
        "  if n <= 1:\n",
        "    return n\n",
        "  else:\n",
        "    return Fibonacci(n-1) + Fibonacci(n-2)\n",
        "Fibonacci(20)\n",
        " '''"
      ],
      "metadata": {
        "id": "QhH2zMb-laVD"
      },
      "execution_count": null,
      "outputs": []
    },
    {
      "cell_type": "code",
      "source": [
        "\n",
        "recursive='''\n",
        "def Fibonacci(n):\n",
        "  if n <= 1:\n",
        "    return n\n",
        "  else:\n",
        "    return Fibonacci(n-1) + Fibonacci(n-2)\n",
        "Fibonacci(20)'''"
      ],
      "metadata": {
        "id": "hBAgF2i1q1Jn"
      },
      "execution_count": null,
      "outputs": []
    },
    {
      "cell_type": "code",
      "source": [
        "loop='''def Fib(limit):\n",
        "  FirstNumber = 1\n",
        "  SecondNumber = 1\n",
        "  count = 0\n",
        "  limit = limit - 2\n",
        "  while count < limit:\n",
        "        NextNumber = FirstNumber + SecondNumber\n",
        "        FirstNumber = SecondNumber\n",
        "        SecondNumber = NextNumber\n",
        "        count += 1\n",
        "  return NextNumber\n",
        "Fib(20) '''"
      ],
      "metadata": {
        "id": "dBAHPiA_rESK"
      },
      "execution_count": null,
      "outputs": []
    },
    {
      "cell_type": "code",
      "source": [
        "import timeit\n",
        "import time\n",
        "print(\"The time with recursive function:\",timeit.timeit(stmt=recursive,number= 20))\n",
        "print(\"The time with loop:\",timeit.timeit(stmt=loop,number= 20))"
      ],
      "metadata": {
        "colab": {
          "base_uri": "https://localhost:8080/"
        },
        "id": "aeXdJHT75ut6",
        "outputId": "5979025b-1c69-4306-8cfc-06b91d4a4676"
      },
      "execution_count": null,
      "outputs": [
        {
          "output_type": "stream",
          "name": "stdout",
          "text": [
            "The time with recursive function: 0.06415351100000066\n",
            "The time with loop: 5.614700000933226e-05\n"
          ]
        }
      ]
    },
    {
      "cell_type": "markdown",
      "source": [
        "OF Course in this case recursive is the better option :))) The time speaks!!!"
      ],
      "metadata": {
        "id": "Iry2We586pTu"
      }
    },
    {
      "cell_type": "markdown",
      "source": [
        "# ***Problem No10.Class definition:***"
      ],
      "metadata": {
        "id": "E91V_8zm66f7"
      }
    },
    {
      "cell_type": "markdown",
      "source": [
        "Define a class polygon. The constructor has to take a tuple as input that contains the length of each side. The (unordered) input list does not have to have a fixed length, but should contain at least 3 items.\n",
        "\n",
        "Create appropriate methods to get and set the length of each side\n",
        "\n",
        "Create a method Perimeter() that returns the Perimeter of the polygon\n",
        "\n",
        "Create a method getOrderedSides(increasing = True) that returns a tuple containing the length of the sides arranged in increasing or decreasing order, depending on the argument of the method\n",
        "\n",
        "Test the class by creating an instance and calling the Perimeter() and getOrderedSides(increasing = True) methods."
      ],
      "metadata": {
        "id": "vB0cVkcl7IWL"
      }
    },
    {
      "cell_type": "code",
      "source": [
        "#This cell of code is jsut for test :)\n",
        "import operator\n",
        "class Polygon:\n",
        "   def __init__(self , components):\n",
        "            self.x = components \n",
        "   def LenComponents(self):\n",
        "     return len(self.x)\n",
        "   def Perimeter(self):\n",
        "     Perimeter = int(0)\n",
        "     for i in range(len(self.x)):\n",
        "        Perimeter += int(self.x[i])\n",
        "     return Perimeter\n",
        "\n",
        "m = Polygon(input(\"Enter a list of length of each side:\").split())\n",
        "print(\"The polygon has\", m.LenComponents(),\"side.\")\n",
        "print(\"The Perimeter of polygon:\", m.Perimeter())"
      ],
      "metadata": {
        "id": "Day_455p7OSc",
        "colab": {
          "base_uri": "https://localhost:8080/"
        },
        "outputId": "f854e83f-f462-4ccd-b295-d966484b2a6c"
      },
      "execution_count": null,
      "outputs": [
        {
          "output_type": "stream",
          "name": "stdout",
          "text": [
            "Enter a list of length of each side:1 2 3 4\n",
            "The polygon has 4 side.\n",
            "The perimeter of polygon: 10\n"
          ]
        }
      ]
    },
    {
      "cell_type": "code",
      "source": [
        "class Polygon():\n",
        "  def __init__(self,LenComponents):\n",
        "     self.LenComponents = LenComponents\n",
        "\n",
        "  l = []\n",
        "  def SetSides(self):\n",
        "    print(\"Enter the length of each sides one by one: \")\n",
        "    for i in range(self.LenComponents):\n",
        "      LengthOfSide = int(input(\"Enter the length: \"))\n",
        "      self.l.append(LengthOfSide)\n",
        "    return(self.l)\n",
        "\n",
        "\n",
        "  def GetEachSides(self):\n",
        "    return self.l\n",
        "  def Perimeter(self):\n",
        "    perimeter = 0\n",
        "    for i in range(len(self.l)):\n",
        "      perimeter = perimeter+self.l[i]\n",
        "    return perimeter\n",
        "  def getOrderedSides(self,increasing):\n",
        "    x=sorted(self.l)\n",
        "    if increasing==True:\n",
        "      print(x)\n",
        "    else:\n",
        "      print(list(reversed(x)))"
      ],
      "metadata": {
        "id": "7hrHcw7Il4-E"
      },
      "execution_count": null,
      "outputs": []
    },
    {
      "cell_type": "code",
      "source": [
        "n = int(input(\"How many sides do you want? \"))\n",
        "polygon = Polygon(n)\n",
        "polygon.SetSides()"
      ],
      "metadata": {
        "colab": {
          "base_uri": "https://localhost:8080/"
        },
        "id": "fFkQdsEygvQp",
        "outputId": "94becee5-59b5-4b58-eaaf-0a2628e6d60a"
      },
      "execution_count": null,
      "outputs": [
        {
          "name": "stdout",
          "output_type": "stream",
          "text": [
            "How many sides do you want? 4\n",
            "Enter the length of each sides one by one: \n",
            "Enter the length: 1\n",
            "Enter the length: 2\n",
            "Enter the length: 3\n",
            "Enter the length: 4\n"
          ]
        },
        {
          "output_type": "execute_result",
          "data": {
            "text/plain": [
              "[1, 2, 3, 4]"
            ]
          },
          "metadata": {},
          "execution_count": 53
        }
      ]
    },
    {
      "cell_type": "code",
      "source": [
        "polygon.GetEachSides()"
      ],
      "metadata": {
        "colab": {
          "base_uri": "https://localhost:8080/"
        },
        "id": "0KuRKYPng2rM",
        "outputId": "4a2916c3-ace1-4ec0-a1eb-55cc13c22b4e"
      },
      "execution_count": null,
      "outputs": [
        {
          "output_type": "execute_result",
          "data": {
            "text/plain": [
              "[1, 2, 3, 4]"
            ]
          },
          "metadata": {},
          "execution_count": 54
        }
      ]
    },
    {
      "cell_type": "code",
      "source": [
        "polygon.Perimeter()"
      ],
      "metadata": {
        "colab": {
          "base_uri": "https://localhost:8080/"
        },
        "id": "jGm3KWJog5_R",
        "outputId": "7e5f77a2-da83-46ba-b003-2ab9e419411a"
      },
      "execution_count": null,
      "outputs": [
        {
          "output_type": "execute_result",
          "data": {
            "text/plain": [
              "10"
            ]
          },
          "metadata": {},
          "execution_count": 55
        }
      ]
    },
    {
      "cell_type": "code",
      "source": [
        "polygon.getOrderedSides(True)"
      ],
      "metadata": {
        "colab": {
          "base_uri": "https://localhost:8080/"
        },
        "id": "rYJ_33kRg9aA",
        "outputId": "21f74650-ed07-44d3-8946-980e5f73b526"
      },
      "execution_count": null,
      "outputs": [
        {
          "output_type": "stream",
          "name": "stdout",
          "text": [
            "[1, 2, 3, 4]\n"
          ]
        }
      ]
    },
    {
      "cell_type": "markdown",
      "source": [
        "# ***Problem No11.Class inheritance:***"
      ],
      "metadata": {
        "id": "8ATYtmy6CyB6"
      }
    },
    {
      "cell_type": "markdown",
      "source": [
        "Define a class rectangle that inherits from polygon. Modify the constructor, if necessary, to make sure that the input data is consistent with the geometrical properties of a rectangle.\n",
        "\n",
        "Create a method area() that returns the area of the rectangle.\n",
        "Test the rectangle class by creating an instance and passing an appropriate input to the constructor."
      ],
      "metadata": {
        "id": "mOwvPiJYC8b4"
      }
    },
    {
      "cell_type": "code",
      "source": [
        "class Rectangle(Polygon):\n",
        "  def __init__(self,):\n",
        "     self.LenComponents=4\n",
        "\n",
        "  l=[]\n",
        "  def SetSides(self):\n",
        "    print(\"Enter the length of each sides one by one: (Consider the rule of rectangle lengths)\")\n",
        "    for i in range(4):\n",
        "      LengthOfSide = int(input(\"Enter the length: \"))\n",
        "      self.l.append(LengthOfSide)\n",
        "      RectangleSides = sorted(self.l)\n",
        "    if RectangleSides[0] != RectangleSides[1] and RectangleSides[2] != RectangleSides[3]:\n",
        "      print(\"Not valid input for rectangle. Consider that!\")\n",
        "      self.l = []\n",
        "      self.SetSides()\n",
        "    return(self.l)\n",
        "  def area(self):\n",
        "    return(int((sorted(self.l)[0])) * (int(sorted(self.l[2]))))"
      ],
      "metadata": {
        "id": "5ZzMSgeqrWYy"
      },
      "execution_count": null,
      "outputs": []
    },
    {
      "cell_type": "code",
      "source": [
        "rectangle = Rectangle()\n",
        "rectangle.SetSides()"
      ],
      "metadata": {
        "colab": {
          "base_uri": "https://localhost:8080/"
        },
        "id": "9dJPnYdoiNMp",
        "outputId": "29672869-e680-4489-f06b-43179c1f1edc"
      },
      "execution_count": null,
      "outputs": [
        {
          "name": "stdout",
          "output_type": "stream",
          "text": [
            "Enter the length of each sides one by one: (Consider the rule of rectangle lengths)\n",
            "Enter the length: 1\n",
            "Enter the length: 2\n",
            "Enter the length: 1\n",
            "Enter the length: 2\n"
          ]
        },
        {
          "output_type": "execute_result",
          "data": {
            "text/plain": [
              "[1, 2, 1, 2]"
            ]
          },
          "metadata": {},
          "execution_count": 63
        }
      ]
    },
    {
      "cell_type": "code",
      "source": [
        "rectangle.GetEachSides()"
      ],
      "metadata": {
        "colab": {
          "base_uri": "https://localhost:8080/"
        },
        "id": "aalqUzBeix2v",
        "outputId": "be0a7fc6-77f4-4f96-c9f6-d0fb0ac51a5e"
      },
      "execution_count": null,
      "outputs": [
        {
          "output_type": "execute_result",
          "data": {
            "text/plain": [
              "[1, 2, 1, 2]"
            ]
          },
          "metadata": {},
          "execution_count": 64
        }
      ]
    },
    {
      "cell_type": "code",
      "source": [
        "rectangle.Perimeter()"
      ],
      "metadata": {
        "colab": {
          "base_uri": "https://localhost:8080/"
        },
        "id": "9fTLYl1Gi2YQ",
        "outputId": "abc88651-2305-45e0-e763-69fc1ab28c6f"
      },
      "execution_count": null,
      "outputs": [
        {
          "output_type": "execute_result",
          "data": {
            "text/plain": [
              "6"
            ]
          },
          "metadata": {},
          "execution_count": 65
        }
      ]
    },
    {
      "cell_type": "code",
      "source": [
        "rectangle.getOrderedSides(False)"
      ],
      "metadata": {
        "colab": {
          "base_uri": "https://localhost:8080/"
        },
        "id": "RDDvuS5KjYZl",
        "outputId": "e5ae3852-c141-477a-d796-9204a0a3b138"
      },
      "execution_count": null,
      "outputs": [
        {
          "output_type": "stream",
          "name": "stdout",
          "text": [
            "[2, 2, 1, 1]\n"
          ]
        }
      ]
    }
  ]
}