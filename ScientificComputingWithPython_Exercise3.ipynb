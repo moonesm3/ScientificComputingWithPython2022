{
  "nbformat": 4,
  "nbformat_minor": 0,
  "metadata": {
    "colab": {
      "provenance": [],
      "authorship_tag": "ABX9TyM1B8lAcCb+LqIj+JJhMiYk",
      "include_colab_link": true
    },
    "kernelspec": {
      "name": "python3",
      "display_name": "Python 3"
    },
    "language_info": {
      "name": "python"
    }
  },
  "cells": [
    {
      "cell_type": "markdown",
      "metadata": {
        "id": "view-in-github",
        "colab_type": "text"
      },
      "source": [
        "<a href=\"https://colab.research.google.com/github/moonesm3/ScientificComputingWithPython2022/blob/moones_mobaraki/ScientificComputingWithPython_Exercise3.ipynb\" target=\"_parent\"><img src=\"https://colab.research.google.com/assets/colab-badge.svg\" alt=\"Open In Colab\"/></a>"
      ]
    },
    {
      "cell_type": "markdown",
      "source": [
        "# ***Problem No1. Number representation:***"
      ],
      "metadata": {
        "id": "l1j02-UJY3fR"
      }
    },
    {
      "cell_type": "markdown",
      "source": [
        "Write a function that converts numbers among the bin, dec, and hex representations (bin<->dec<->hex). Determine the input type in the function, and pass another argument to choose the output representation."
      ],
      "metadata": {
        "id": "hqSrXeatZAU0"
      }
    },
    {
      "cell_type": "code",
      "execution_count": 40,
      "metadata": {
        "colab": {
          "base_uri": "https://localhost:8080/"
        },
        "id": "CoKzuHenYvfA",
        "outputId": "0481af2e-7b70-48c6-a0c0-35215e199a94"
      },
      "outputs": [
        {
          "output_type": "stream",
          "name": "stdout",
          "text": [
            "Enter The value:99\n",
            "('Hexadecimal representation of', 99, ':', '0x63', 'And', 'Binary representation of', 99, ':', '0b1100011')\n"
          ]
        }
      ],
      "source": [
        "#Converting straightforward using casting (Solution1)\n",
        "def Change(x):\n",
        "  try:\n",
        "    Type = type(x)\n",
        "  except:\n",
        "    Type = \"Hexadecimal\"\n",
        "  if Type == \"Binary\":\n",
        "    m = hex(int(x))\n",
        "    n = int(x, 2)\n",
        "    return 'Hexadecimal representation of', x, ':', m,'And','Decimal representation of', x, ':', n\n",
        "  elif Type == \"Hexadecimal\":\n",
        "    n = int(x, 2)\n",
        "    m = bin(n)\n",
        "    return 'Binary representation of', x, ':', m,'And','Decimal representation of', x, ':', n\n",
        "  else:\n",
        "    x = int(x)\n",
        "    m = hex(x)\n",
        "    n = bin(x)\n",
        "    return 'Hexadecimal representation of', x, ':', m,'And','Binary representation of', x, ':', n\n",
        "\n",
        "x = input(\"Enter The value:\")\n",
        "print(Change(x))\n",
        "  "
      ]
    },
    {
      "cell_type": "code",
      "source": [
        "#Converting straightforward using casting (Solution2)\n",
        "def Change(x,y):\n",
        "  try:\n",
        "    Type = type(x)\n",
        "  except:\n",
        "    Type = \"Hexadecimal\"\n",
        "  if Type == \"Binary\":\n",
        "    m = hex(int(x))\n",
        "    n = int(x, 2)\n",
        "    if ( y == \"Binary\"):\n",
        "      return 'The Type of x (input number) is Binary and the output will be the same as the input. So the output is:',x\n",
        "    elif (y == \"Decimal\"):\n",
        "      return 'Decimal representation of', x, ':', n\n",
        "    else:\n",
        "      return 'Hexadecimal representation of', x, ':', m\n",
        "  elif Type == \"Hexadecimal\":\n",
        "    n = int(x, 2)\n",
        "    m = bin(n)\n",
        "    if (y == \"Hexadecimal\"):\n",
        "      return 'The Type of x (input number) is Hexadecimal and the output will be the same as the input. So the output is:',x\n",
        "    elif (y == \"Decimal\"):\n",
        "      return 'Decimal representation of', x, ':', n\n",
        "    else:\n",
        "      return 'Binary representation of', x, ':', m\n",
        "  else:\n",
        "    x = int(x)\n",
        "    m = hex(x)\n",
        "    n = bin(x)\n",
        "    if (y == \"Decimal\"):\n",
        "      return 'The Type of x (input number) is Decimal and the output will be the same as the input. So the output is:',x\n",
        "    elif (y == \"Binary\"):\n",
        "      return 'Binary representation of', x, ':', n\n",
        "    else:\n",
        "      return 'Hexadecimal representation of', x, ':', m\n",
        "\n",
        "x = input(\"Enter The value: \")\n",
        "y = input(\"Enter what type of output do you want? (Choosing from Decimal , Binary , Hexadecimal)? \")\n",
        "print(Change(x,y))\n",
        "  "
      ],
      "metadata": {
        "colab": {
          "base_uri": "https://localhost:8080/"
        },
        "id": "5HsSzTebIFat",
        "outputId": "d639fdcb-1f8b-4940-fa2d-dc2c6edd0931"
      },
      "execution_count": 14,
      "outputs": [
        {
          "output_type": "stream",
          "name": "stdout",
          "text": [
            "Enter The value: 99\n",
            "Enter what type of output do you want? (Choosing from Decimal , Binary , Hexadecimal)? Decimal\n",
            "('The Type of x (input number) is Decimal and the output will be the same as the input. So the output is:', 99)\n"
          ]
        }
      ]
    },
    {
      "cell_type": "markdown",
      "source": [
        "# ***Problem No2. 32-bit floating point number:***"
      ],
      "metadata": {
        "id": "PCxc-2WiV57K"
      }
    },
    {
      "cell_type": "markdown",
      "source": [
        "Write a function that converts a 32 bit binary string (for example, 110000101011000000000000) into a single precision floating point in decimal representation. Interpret the various bits as sign, fractional part of the mantissa and exponent, according to the IEEE 754 reccommendations."
      ],
      "metadata": {
        "id": "_3l5hV6RWBjx"
      }
    },
    {
      "cell_type": "code",
      "source": [
        "def ConvertBinToFloat(MantissaString):\n",
        "    PowerCount = -1\n",
        "    MantissaFloat = 0\n",
        "    for i in MantissaString:\n",
        "        MantissaFloat += (int(i) * pow(2, PowerCount))\n",
        "        PowerCount = PowerCount - 1\n",
        "    return (MantissaFloat + 1)\n",
        " \n",
        "if __name__ == \"__main__\":\n",
        "    IEEE32 = input(\"Enter Binary string: \")\n",
        "    SignBit = int(IEEE32[0])\n",
        "    ExponentBias = int(IEEE32[2 : 10], 2)\n",
        "    ExponentUnBias = ExponentBias - 127\n",
        "    MantissaString = IEEE32[11 : ]\n",
        "    MantissaFloat = ConvertBinToFloat(MantissaString)\n",
        "    FloatingNumber = pow(-1, SignBit) * MantissaFloat * pow(2, ExponentUnBias)\n",
        "    print(\"The float value of the given IEEE-754 representation is :\",FloatingNumber)"
      ],
      "metadata": {
        "colab": {
          "base_uri": "https://localhost:8080/"
        },
        "id": "--P2n3FvWEFq",
        "outputId": "4a4ba664-35e3-4cb5-e92f-3c15551f2ca3"
      },
      "execution_count": 17,
      "outputs": [
        {
          "output_type": "stream",
          "name": "stdout",
          "text": [
            "Enter Binary string: 00000011111000000000000000000000\n",
            "The float value of the given IEEE-754 representation is : 1.925929944387236e-34\n"
          ]
        }
      ]
    },
    {
      "cell_type": "markdown",
      "source": [
        "# ***Problem No3. Underflow and overflow:***"
      ],
      "metadata": {
        "id": "kruZf2zbMC2A"
      }
    },
    {
      "cell_type": "markdown",
      "source": [
        "Write a program to determine the underflow and overflow limits (within a factor of 2) for floating point numbers on your computer.\n",
        "\n",
        "Hint: define two variables initialized to 1, and halve/double them for a sufficient amount of times to exceed the under/over-flow limits."
      ],
      "metadata": {
        "id": "S0ptNxLhMKz5"
      }
    },
    {
      "cell_type": "code",
      "source": [
        "import sys\n",
        "UnderFlow = 1\n",
        "OverFlow = 1\n",
        "NumberOfReapet = 0\n",
        "m = sys.float_info.dig #Maximum number of decimal digits that can be faithfully represented in a float\n",
        "#print(m)\n",
        "for i in range(m):\n",
        "    OverFlow  = OverFlow  * 2\n",
        "    UnderFlow = UnderFlow / 2\n",
        "    NumberOfReapet  += 1\n",
        "\n",
        "ShorterOverFlow = \"{:e}\".format(OverFlow)\n",
        "ShorterUnderFlow = \"{:e}\".format(UnderFlow)\n",
        "\n",
        "print(\"Maximum number of decimal digits that can be faithfully represented in a float is: \" , m)\n",
        "print(\"With the number of reapet\",NumberOfReapet,\"We reach to what we want. And the overflow is:\" , ShorterOverFlow, \", And the underflow is:\", ShorterUnderFlow)"
      ],
      "metadata": {
        "colab": {
          "base_uri": "https://localhost:8080/"
        },
        "id": "ariUBcwhMOsF",
        "outputId": "2a34aa57-8559-4396-f360-73d9c8be975d"
      },
      "execution_count": 34,
      "outputs": [
        {
          "output_type": "stream",
          "name": "stdout",
          "text": [
            "Maximum number of decimal digits that can be faithfully represented in a float is:  15\n",
            "With the number of reapet 15 We reach to what we want. And the overflow is: 3.276800e+04 , And the underflow is: 3.051758e-05\n"
          ]
        }
      ]
    },
    {
      "cell_type": "code",
      "source": [
        "#ُSolution number 2: (Using self Tests)\n",
        "UnderFlow = 1\n",
        "OverFlow = 1\n",
        "NumberOfReapet = 0\n",
        "\n",
        "for i in range(1023):  #1023 Based on test I have done. IF we put 1024 we will get error and with 1022 the numbers are not good!\n",
        "    OverFlow  = OverFlow  * 2\n",
        "    UnderFlow = UnderFlow / 2\n",
        "    NumberOfReapet  += 1\n",
        "\n",
        "ShorterOverFlow = \"{:e}\".format(OverFlow)\n",
        "ShorterUnderFlow = \"{:e}\".format(UnderFlow)\n",
        "\n",
        "print(\"With the number of reapet\",NumberOfReapet,\"We reach to what we want. And the overflow is:\" , ShorterOverFlow, \", And the underflow is:\", ShorterUnderFlow)"
      ],
      "metadata": {
        "colab": {
          "base_uri": "https://localhost:8080/"
        },
        "id": "haQq9hlg8KAC",
        "outputId": "aca50bac-eeec-44e1-b999-3e6f44b2919c"
      },
      "execution_count": 42,
      "outputs": [
        {
          "output_type": "stream",
          "name": "stdout",
          "text": [
            "With the number of reapet 1023 We reach to what we want. And the overflow is: 8.988466e+307 , And the underflow is: 1.112537e-308\n"
          ]
        }
      ]
    },
    {
      "cell_type": "markdown",
      "source": [
        "# ***Problem No4. Machine precision:***"
      ],
      "metadata": {
        "id": "9Y0zl1gpVfs7"
      }
    },
    {
      "cell_type": "markdown",
      "source": [
        "Similarly to the previous exercise, write a program to determine the machine precision for floating point numbers.\n",
        "\n",
        "Hint: define a new variable by adding an increasingly smaller value and check when the addition starts to have no effect on the number."
      ],
      "metadata": {
        "id": "lR4XJqWhVnWQ"
      }
    },
    {
      "cell_type": "code",
      "source": [
        "Variable = 2\n",
        "SmallNumber = 2e-4\n",
        "print(\"The small number is:\", SmallNumber)\n",
        "for i in range(1,16):\n",
        "    Variable = Variable + SmallNumber\n",
        "    SmallNumber = SmallNumber * SmallNumber\n",
        "    print(f'Step {i}:',Variable )\n",
        "print(\"We see after 3 steps it won't have any effect on the number.\")\n",
        "    "
      ],
      "metadata": {
        "colab": {
          "base_uri": "https://localhost:8080/"
        },
        "id": "1ysWRUDcqH4l",
        "outputId": "3c2ee7ed-9d94-4ade-ddc3-0017d0e59f8a"
      },
      "execution_count": 40,
      "outputs": [
        {
          "output_type": "stream",
          "name": "stdout",
          "text": [
            "The small number is: 0.0002\n",
            "Step 1: 2.0002\n",
            "Step 2: 2.00020004\n",
            "Step 3: 2.000200040000002\n",
            "Step 4: 2.000200040000002\n",
            "Step 5: 2.000200040000002\n",
            "Step 6: 2.000200040000002\n",
            "Step 7: 2.000200040000002\n",
            "Step 8: 2.000200040000002\n",
            "Step 9: 2.000200040000002\n",
            "Step 10: 2.000200040000002\n",
            "Step 11: 2.000200040000002\n",
            "Step 12: 2.000200040000002\n",
            "Step 13: 2.000200040000002\n",
            "Step 14: 2.000200040000002\n",
            "Step 15: 2.000200040000002\n",
            "We see after 3 steps it won't have any effect on the number.\n"
          ]
        }
      ]
    },
    {
      "cell_type": "markdown",
      "source": [
        "# ***Problem No5. Quadratic solution:***"
      ],
      "metadata": {
        "id": "nuLPcjSBVq50"
      }
    },
    {
      "cell_type": "markdown",
      "source": [
        "Write a function that takes in input three parameters ,  and  and prints out the two solutions to the quadratic equation \n",
        " using the standard formula:\n",
        " \n",
        "\n",
        "use the function to compute the solution"
      ],
      "metadata": {
        "id": "0pSJhXrLVxcK"
      }
    },
    {
      "cell_type": "code",
      "source": [
        "# Test function :)\n",
        "import math\n",
        "def SolveEquation(a,b,c):\n",
        "  x = -b\n",
        "  Delta = (b ** 2) - 4 * a * c\n",
        "  SqrtDelta = Delta ** 0.5\n",
        "  x1 = x + SqrtDelta / 2*a\n",
        "  x2 = x - SqrtDelta / 2*a\n",
        "  return 'The two answers are: ', x1 , x2\n",
        "a = int(input(\"Enter the first number (a): \"))\n",
        "b = int(input(\"Enter the first number (b): \"))\n",
        "c = int(input(\"Enter the first number (c): \"))\n",
        "print(\"Our answers to equation (a*x^2 + b*x + c = 0) are --> \",SolveEquation(a,b,c))"
      ],
      "metadata": {
        "colab": {
          "base_uri": "https://localhost:8080/"
        },
        "id": "3QCcIwAOWR0j",
        "outputId": "dc779ac8-22a1-4149-f9f1-99cc8232952a"
      },
      "execution_count": 26,
      "outputs": [
        {
          "output_type": "stream",
          "name": "stdout",
          "text": [
            "Enter the first number (a): 1\n",
            "Enter the first number (b): 2\n",
            "Enter the first number (c): 1\n",
            "Our answers to equation (a*x^2 + b*x + c = 0) are -->  ('The two answers are: ', -2.0, -2.0)\n"
          ]
        }
      ]
    },
    {
      "cell_type": "markdown",
      "source": [
        "write a function that computes the roots of a quadratic equation accurately in all cases:"
      ],
      "metadata": {
        "id": "S8NJoMH4kGrL"
      }
    },
    {
      "cell_type": "code",
      "source": [
        "from math import sqrt\n",
        "def SolveEquation(a,b,c):\n",
        "  x = -b\n",
        "  Delta = (b ** 2) - 4 * a * c\n",
        "  if Delta > 0:\n",
        "     SqrtDelta = Delta ** 0.5\n",
        "     x1 = float(x + SqrtDelta / 2*a)\n",
        "     x2 = float(x - SqrtDelta / 2*a)\n",
        "     return \"There are 2 roots: %2f and %2f\" % (x1, x2)\n",
        "  elif Delta < 0:\n",
        "     return \"There is no such root with Real value.\"\n",
        "  elif Delta == 0 :\n",
        "      SqrtDelta = Delta ** 0.5\n",
        "      x1 = x + SqrtDelta / 2*a\n",
        "      return \"There is just one root: %f\" % (x1)\n",
        "\n",
        "a = float(input(\"Enter the first number (a): \"))\n",
        "b = float(input(\"Enter the first number (b): \"))\n",
        "c = float(input(\"Enter the first number (c): \"))\n",
        "print(\"Our answers to equation (a*x^2 + b*x + c = 0) are --> \",SolveEquation(a,b,c))\n"
      ],
      "metadata": {
        "colab": {
          "base_uri": "https://localhost:8080/"
        },
        "id": "ABa0bDzwjxi2",
        "outputId": "726edb91-7763-4403-f99c-5499b52d7d37"
      },
      "execution_count": 53,
      "outputs": [
        {
          "output_type": "stream",
          "name": "stdout",
          "text": [
            "Enter the first number (a): 0.001\n",
            "Enter the first number (b): 1000\n",
            "Enter the first number (c): 0.001\n",
            "Our answers to equation (a*x^2 + b*x + c = 0) are -->  There are 2 roots: -999.500000 and -1000.500000\n"
          ]
        }
      ]
    },
    {
      "cell_type": "code",
      "source": [
        "# Re-express the formula \n",
        "# We know the delta is positive in this case bacause of previous calculation so we skip the consideration of delta in this code.\n",
        "import math\n",
        "def ReExpressEquation(a,b,c):\n",
        "  x = -b\n",
        "  Delta = (b ** 2) - 4 * a * c\n",
        "  SqrtDelta = Delta ** 0.5\n",
        "  z = float(x + SqrtDelta)\n",
        "  z2 = z ** 2\n",
        "  y = float(x - SqrtDelta)\n",
        "  y2 = y ** 2\n",
        "  x1 = z2 / 2*a*z\n",
        "  x2 = y2 / 2*a*y\n",
        "  return 'The two answers are: ', x1 , x2\n",
        "a = float(input(\"Enter the first number (a): \"))\n",
        "b = float(input(\"Enter the first number (b): \"))\n",
        "c = float(input(\"Enter the first number (c): \"))\n",
        "print(\"Our answers to equation (a*x^2 + b*x + c = 0) are --> \", ReExpressEquation(a,b,c))\n",
        "print(\"Because we consider big numbers the output even with little changes will change alot.\")\n",
        "print(\"So we can understand that the calculation of the equation with standard form is unstable.\")"
      ],
      "metadata": {
        "colab": {
          "base_uri": "https://localhost:8080/"
        },
        "id": "0M0A5qTpiAK8",
        "outputId": "a29937f1-19e5-4369-b206-db0c50afb07d"
      },
      "execution_count": 51,
      "outputs": [
        {
          "output_type": "stream",
          "name": "stdout",
          "text": [
            "Enter the first number (a): 0.001\n",
            "Enter the first number (b): 1000\n",
            "Enter the first number (c): 0.001\n",
            "Our answers to equation (a*x^2 + b*x + c = 0) are -->  ('The two answers are: ', -3.9998730965340794e-30, -3999999.999988)\n",
            "Because we consider big numbers the output even with little changes will change alot.\n",
            "So we can understand that the calculation of the equation with standard form is unstable.\n"
          ]
        }
      ]
    },
    {
      "cell_type": "markdown",
      "source": [
        "write a function that computes the roots of a quadratic equation accurately in all cases."
      ],
      "metadata": {
        "id": "nTS_yWJGqj53"
      }
    },
    {
      "cell_type": "code",
      "source": [
        "# For computing the accurate roots we should use the hex()\n",
        "# The function float.hex() yield the exact value stored for a floating point number\n",
        "\n",
        "from math import sqrt\n",
        "def SolveEquation(a,b,c):\n",
        "  x = -b\n",
        "  Delta = (b ** 2) - 4 * a * c\n",
        "  if Delta > 0:\n",
        "     SqrtDelta = Delta ** 0.5\n",
        "     x1 = float(x + SqrtDelta / 2*a)\n",
        "     x1 = x1.hex()\n",
        "     x2 = float(x - SqrtDelta / 2*a)\n",
        "     x2 = x2.hex()\n",
        "     return \"There are 2 roots:\" , (x1,x2)\n",
        "  elif Delta < 0:\n",
        "     return \"There is no such root with Real value.\"\n",
        "  elif Delta == 0 :\n",
        "      SqrtDelta = Delta ** 0.5\n",
        "      x1 = x + SqrtDelta / 2*a\n",
        "      return \"There is just one root: \" , (x1)\n",
        "\n",
        "a = float(input(\"Enter the first number (a): \"))\n",
        "b = float(input(\"Enter the first number (b): \"))\n",
        "c = float(input(\"Enter the first number (c): \"))\n",
        "print(\"Our answers to equation (a*x^2 + b*x + c = 0) are --> \",SolveEquation(a,b,c))\n"
      ],
      "metadata": {
        "colab": {
          "base_uri": "https://localhost:8080/"
        },
        "id": "mRhsnFjjqnMC",
        "outputId": "4d1d5d6b-0890-4b1c-9823-51836218e75b"
      },
      "execution_count": 57,
      "outputs": [
        {
          "output_type": "stream",
          "name": "stdout",
          "text": [
            "Enter the first number (a): 0.001\n",
            "Enter the first number (b): 1000\n",
            "Enter the first number (c): 0.001\n",
            "Our answers to equation (a*x^2 + b*x + c = 0) are -->  ('There are 2 roots:', ('-0x1.f3c0000000009p+9', '-0x1.f43fffffffff7p+9'))\n"
          ]
        }
      ]
    },
    {
      "cell_type": "markdown",
      "source": [
        "# ***Problem No6. The derivative:***"
      ],
      "metadata": {
        "id": "xkO2s0z6nAA8"
      }
    },
    {
      "cell_type": "markdown",
      "source": [
        "Write a program that implements the function f(x) = x(x-1)"
      ],
      "metadata": {
        "id": "xOsZU9jGoKbf"
      }
    },
    {
      "cell_type": "code",
      "source": [
        "def Function1(x):\n",
        "  return \"The output of function (f(x) = x(x-1)) is: \", x * (x-1)\n",
        "print(Function1(int(input(\"Enter a number: \"))))"
      ],
      "metadata": {
        "colab": {
          "base_uri": "https://localhost:8080/"
        },
        "id": "C23fuaD-qLCT",
        "outputId": "def7fbfe-2221-47a2-8469-714fad755a2a"
      },
      "execution_count": 16,
      "outputs": [
        {
          "output_type": "stream",
          "name": "stdout",
          "text": [
            "Enter a number: 3\n",
            "('The output of function (f(x) = x(x-1)) is: ', 6)\n"
          ]
        }
      ]
    },
    {
      "cell_type": "code",
      "source": [
        "def Function(m,x):\n",
        "  if m == 0:\n",
        "    function = x * (x-1)\n",
        "    return function\n",
        "  else:\n",
        "    function = ((x + m) * (x + m - 1)) - (x * (x-1))\n",
        "    return function"
      ],
      "metadata": {
        "id": "v-X3Q5pgIw0N"
      },
      "execution_count": 43,
      "outputs": []
    },
    {
      "cell_type": "markdown",
      "source": [
        "Calculate the derivative of the function at the point  using the derivative definition:with Calculate the true value of the same derivative analytically and compare it with the answer your program gives. The two will not agree perfectly. Why?"
      ],
      "metadata": {
        "id": "3ztzj8yHq0pl"
      }
    },
    {
      "cell_type": "code",
      "source": [
        "#Answer of the program:\n",
        "from sympy import limit, Symbol \n",
        "x = Symbol('x')\n",
        "m = 0.01\n",
        "x = 1\n",
        "if m == 0:\n",
        "  Function = x * (x-1)\n",
        "else:\n",
        "  Function = ((x + m) * (x + m - 1)) - (x * (x-1))\n",
        "y =  Function / m\n",
        "limit(y, x, 0)"
      ],
      "metadata": {
        "colab": {
          "base_uri": "https://localhost:8080/",
          "height": 37
        },
        "id": "wc_aSdJ-sMGe",
        "outputId": "6f7689e5-9f64-4323-c8cd-04542954f43b"
      },
      "execution_count": 44,
      "outputs": [
        {
          "output_type": "execute_result",
          "data": {
            "text/plain": [
              "1.01000000000000"
            ],
            "text/latex": "$\\displaystyle 1.01$"
          },
          "metadata": {},
          "execution_count": 44
        }
      ]
    },
    {
      "cell_type": "markdown",
      "source": [
        "If we want to calculate the true value the derivation of f(x) will be (2x - 1).\n",
        "So with x = 1, Our exact answer should be 1 but the program gives 1.01 instead of 1."
      ],
      "metadata": {
        "id": "5GKiEbJsfBbP"
      }
    },
    {
      "cell_type": "code",
      "source": [
        "#Answer of the program with smaller m\n",
        "from sympy import limit, Symbol \n",
        "x = Symbol('x')\n",
        "m = 0.0001\n",
        "x = 1\n",
        "if m == 0:\n",
        "  Function = x * (x-1)\n",
        "else:\n",
        "  Function = (x + m) * (x + m - 1)\n",
        "y =  Function / m\n",
        "limit(y, x, 0)"
      ],
      "metadata": {
        "colab": {
          "base_uri": "https://localhost:8080/",
          "height": 37
        },
        "id": "_CdpmGDdfagG",
        "outputId": "b38f95ef-abe3-4a43-fbaa-e977a6f3f93d"
      },
      "execution_count": 5,
      "outputs": [
        {
          "output_type": "execute_result",
          "data": {
            "text/plain": [
              "1.00009999999989"
            ],
            "text/latex": "$\\displaystyle 1.00009999999989$"
          },
          "metadata": {},
          "execution_count": 5
        }
      ]
    },
    {
      "cell_type": "code",
      "source": [
        "#Answer of the program with smaller m\n",
        "from sympy import limit, Symbol \n",
        "x = Symbol('x')\n",
        "m = 0.000001\n",
        "x = 1\n",
        "if m == 0:\n",
        "  Function = x * (x-1)\n",
        "else:\n",
        "  Function = (x + m) * (x + m - 1)\n",
        "y =  Function / m\n",
        "limit(y, x, 0)"
      ],
      "metadata": {
        "colab": {
          "base_uri": "https://localhost:8080/",
          "height": 37
        },
        "id": "pRPocYmsfhkv",
        "outputId": "ea332cd8-fab0-446d-e6c3-ce97d1d472d9"
      },
      "execution_count": 6,
      "outputs": [
        {
          "output_type": "execute_result",
          "data": {
            "text/plain": [
              "1.00000099991773"
            ],
            "text/latex": "$\\displaystyle 1.00000099991773$"
          },
          "metadata": {},
          "execution_count": 6
        }
      ]
    },
    {
      "cell_type": "markdown",
      "source": [
        "We can see that how much we reduce the m our accuracy increase and we get near by the complete correct answer step by step, slowly!"
      ],
      "metadata": {
        "id": "tM4ryu9bflyu"
      }
    },
    {
      "cell_type": "markdown",
      "source": [
        "# ***Problem No7. Integral of a semicircle:***"
      ],
      "metadata": {
        "id": "zRHdFixJg1WA"
      }
    },
    {
      "cell_type": "markdown",
      "source": [
        "(a) Write a program to compute the integral with N = 100. How does the result compare to the true value?"
      ],
      "metadata": {
        "id": "UPF4JAEYg9xW"
      }
    },
    {
      "cell_type": "code",
      "source": [
        "# In this exercise we need to calculate the integral. And this integral is the area below the line of f(x).\n",
        "# In the Riemann definition we have many rectangles and we should calculate the area of each of them and then accumulate them in sum variable. The limitation of this sum is equal to integral\n",
        "\n",
        "import math \n",
        "def Function(N):\n",
        "    UpperLimit = 1\n",
        "    LowerLimit = -1  \n",
        "    h = (UpperLimit - LowerLimit) / N  # Our domain is the difference between the upperlimit and the lowerlimit. in order to calculate the length of the rectangle we need to divide this domain length to the number of rectangle that we have\n",
        "    # h = abs(UpperLimit - LowerLimit) / N  (If we want to be sure that we calculate the positive value of the domain) ((1-(-1) = 2)/ N)\n",
        "    I = 0 \n",
        "    for k in range(N):\n",
        "        x = LowerLimit + h * k\n",
        "        yk = math.sqrt(1 - x**2)\n",
        "        I += h * yk\n",
        "    return I\n",
        "    \n",
        "print(Function(100))\n",
        "print(math.pi/2)"
      ],
      "metadata": {
        "colab": {
          "base_uri": "https://localhost:8080/"
        },
        "id": "goqVHYrqRKNo",
        "outputId": "9f417a1a-5673-42e1-86aa-516e198a9fd2"
      },
      "execution_count": 58,
      "outputs": [
        {
          "output_type": "stream",
          "name": "stdout",
          "text": [
            "1.5691342555492505\n",
            "1.5707963267948966\n"
          ]
        }
      ]
    },
    {
      "cell_type": "markdown",
      "source": [
        "(b) How much can N be increased if the computation needs to be run in less than a second? What is the gain in running it for 1 minute? Use timeit to measure the time."
      ],
      "metadata": {
        "id": "zD38pcwjVisR"
      }
    },
    {
      "cell_type": "code",
      "source": [
        "# In order to calculate the time I consider the time before starting the function and the time after function. Then reduce the start time from finish time\n",
        "import math\n",
        "import timeit\n",
        "StartTime = timeit.default_timer()\n",
        "def Function(N):\n",
        "    UpperLimit = 1\n",
        "    LowerLimit = -1  \n",
        "    h = (UpperLimit - LowerLimit) / N  # Our domain is the difference between the upperlimit and the lowerlimit. in order to calculate the length of the rectangle we need to divide this domain length to the number of rectangle that we have\n",
        "    # h = abs(UpperLimit - LowerLimit) / N  (If we want to be sure that we calculate the positive value of the domain)\n",
        "    I = 0 \n",
        "    for k in range(N):\n",
        "        x = LowerLimit + h * k\n",
        "        yk = math.sqrt(1 - x**2)\n",
        "        I += h * yk\n",
        "    return I\n",
        "\n",
        "N = 2900000\n",
        "Function(N)\n",
        "EndTime = timeit.default_timer()\n",
        "print(\"With the Number N of\", N,\"The function time is:\" , EndTime - StartTime)\n",
        "print(\"Maybe we can increase our N a little bit to get closer to 1 sec but in general time changes everytime we run our code so sometimes we need to increase it or decrese it to be approximately near 1  :) \")\n",
        "\n"
      ],
      "metadata": {
        "colab": {
          "base_uri": "https://localhost:8080/"
        },
        "id": "osmnd8LUVm7P",
        "outputId": "3549a482-187a-43aa-d0e0-586fc6a61470"
      },
      "execution_count": 27,
      "outputs": [
        {
          "output_type": "stream",
          "name": "stdout",
          "text": [
            "With the Number N of 2900000 The function time is: 0.9260899850000897\n",
            "Maybe we can increase our N a little bit to get closer to 1 sec but in general time changes everytime we run our code so sometimes we need to increase it or decrese it to be approximately near 1  :) \n"
          ]
        }
      ]
    },
    {
      "cell_type": "code",
      "source": [
        "# In order to calculate the time I consider the time before starting the function and the time after function. Then reduce the start time from finish time\n",
        "import math\n",
        "import timeit\n",
        "StartTime = timeit.default_timer()\n",
        "def Function(N):\n",
        "    UpperLimit = 1\n",
        "    LowerLimit = -1  \n",
        "    h = (UpperLimit - LowerLimit) / N  # Our domain is the difference between the upperlimit and the lowerlimit. in order to calculate the length of the rectangle we need to divide this domain length to the number of rectangle that we have\n",
        "    # h = abs(UpperLimit - LowerLimit) / N  (If we want to be sure that we calculate the positive value of the domain)\n",
        "    I = 0 \n",
        "    for k in range(N):\n",
        "        x = LowerLimit + h * k\n",
        "        yk = math.sqrt(1 - x**2)\n",
        "        I += h * yk\n",
        "    return I\n",
        "\n",
        "N = 180000000\n",
        "Function(N)\n",
        "EndTime = timeit.default_timer()\n",
        "print(\"With the Number N of\", N,\"The function time is:\" , EndTime - StartTime)\n",
        "print(\"Maybe we can increase our N a little bit to get closer to 1 minute but in general time changes everytime we run our code so sometimes we need to increase it or decrese it to be approximately near 1  :) \")\n",
        "\n"
      ],
      "metadata": {
        "colab": {
          "base_uri": "https://localhost:8080/"
        },
        "id": "_g4OYINUY2iT",
        "outputId": "3e78c7d6-dd72-4e6f-860e-6201c588cad0"
      },
      "execution_count": 26,
      "outputs": [
        {
          "output_type": "stream",
          "name": "stdout",
          "text": [
            "With the Number N of 180000000 The function time is: 56.337253381999744\n",
            "Maybe we can increase our N a little bit to get closer to 1 minute but in general time changes everytime we run our code so sometimes we need to increase it or decrese it to be approximately near 1  :) \n"
          ]
        }
      ]
    }
  ]
}