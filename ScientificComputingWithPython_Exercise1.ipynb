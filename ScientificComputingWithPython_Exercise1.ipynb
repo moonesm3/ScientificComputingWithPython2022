{
  "nbformat": 4,
  "nbformat_minor": 0,
  "metadata": {
    "colab": {
      "provenance": [],
      "authorship_tag": "ABX9TyOBd/NIZf2kPR3Bs/PiKH0n",
      "include_colab_link": true
    },
    "kernelspec": {
      "name": "python3",
      "display_name": "Python 3"
    },
    "language_info": {
      "name": "python"
    }
  },
  "cells": [
    {
      "cell_type": "markdown",
      "metadata": {
        "id": "view-in-github",
        "colab_type": "text"
      },
      "source": [
        "<a href=\"https://colab.research.google.com/github/moonesm3/ScientificComputingWithPython2022/blob/moones_mobaraki/ScientificComputingWithPython_Exercise1.ipynb\" target=\"_parent\"><img src=\"https://colab.research.google.com/assets/colab-badge.svg\" alt=\"Open In Colab\"/></a>"
      ]
    },
    {
      "cell_type": "markdown",
      "source": [
        "## *Problem No.1:*\n",
        "**The HelloWorld replacement**"
      ],
      "metadata": {
        "id": "MzfecA9JsYMx"
      }
    },
    {
      "cell_type": "markdown",
      "source": [
        "a) Write a program that:\n",
        "\n",
        "prints the numbers from 1 to 100\n",
        "but for multiples of three print \"Hello\" instead of the number and for the multiples of five print \"World\"\n",
        "for numbers which are multiples of both three and five print \"HelloWorld\""
      ],
      "metadata": {
        "id": "okd_J_-3s9VO"
      }
    },
    {
      "cell_type": "code",
      "execution_count": 1,
      "metadata": {
        "colab": {
          "base_uri": "https://localhost:8080/"
        },
        "id": "zJnXgMvxsKV_",
        "outputId": "b5dc77d6-5465-4d6e-d02e-4a4de39c1c57"
      },
      "outputs": [
        {
          "output_type": "stream",
          "name": "stdout",
          "text": [
            "1\n",
            "2\n",
            "Hello\n",
            "4\n",
            "World\n",
            "Hello\n",
            "7\n",
            "8\n",
            "Hello\n",
            "World\n",
            "11\n",
            "Hello\n",
            "13\n",
            "14\n",
            "HelloWorld\n",
            "16\n",
            "17\n",
            "Hello\n",
            "19\n",
            "World\n",
            "Hello\n",
            "22\n",
            "23\n",
            "Hello\n",
            "World\n",
            "26\n",
            "Hello\n",
            "28\n",
            "29\n",
            "HelloWorld\n",
            "31\n",
            "32\n",
            "Hello\n",
            "34\n",
            "World\n",
            "Hello\n",
            "37\n",
            "38\n",
            "Hello\n",
            "World\n",
            "41\n",
            "Hello\n",
            "43\n",
            "44\n",
            "HelloWorld\n",
            "46\n",
            "47\n",
            "Hello\n",
            "49\n",
            "World\n",
            "Hello\n",
            "52\n",
            "53\n",
            "Hello\n",
            "World\n",
            "56\n",
            "Hello\n",
            "58\n",
            "59\n",
            "HelloWorld\n",
            "61\n",
            "62\n",
            "Hello\n",
            "64\n",
            "World\n",
            "Hello\n",
            "67\n",
            "68\n",
            "Hello\n",
            "World\n",
            "71\n",
            "Hello\n",
            "73\n",
            "74\n",
            "HelloWorld\n",
            "76\n",
            "77\n",
            "Hello\n",
            "79\n",
            "World\n",
            "Hello\n",
            "82\n",
            "83\n",
            "Hello\n",
            "World\n",
            "86\n",
            "Hello\n",
            "88\n",
            "89\n",
            "HelloWorld\n",
            "91\n",
            "92\n",
            "Hello\n",
            "94\n",
            "World\n",
            "Hello\n",
            "97\n",
            "98\n",
            "Hello\n",
            "World\n"
          ]
        }
      ],
      "source": [
        "for i in range(1,101):\n",
        "  if i % 15 == 0:\n",
        "    print(\"HelloWorld\")\n",
        "  elif (i % 3 == 0):\n",
        "    print(\"Hello\")\n",
        "  elif (i % 5 == 0):\n",
        "    print(\"World\")\n",
        "  else:\n",
        "    print(i)"
      ]
    },
    {
      "cell_type": "markdown",
      "source": [
        "b) Put the result in a tuple and substitute \"Hello\" with \"Python\" and \"World\" with \"Works\"."
      ],
      "metadata": {
        "id": "ExB5FdkwuVNH"
      }
    },
    {
      "cell_type": "code",
      "source": [
        "l = []\n",
        "for i in range(1,101):\n",
        "  if i % 15 == 0:\n",
        "    l.append(\"HelloWorld\")\n",
        "  elif (i % 3 == 0):\n",
        "    l.append(\"Python\")\n",
        "  elif (i % 5 == 0):\n",
        "    l.append(\"Works\")\n",
        "  else:\n",
        "    l.append(i)\n",
        "print(tuple(l))"
      ],
      "metadata": {
        "colab": {
          "base_uri": "https://localhost:8080/"
        },
        "id": "gNnxHtNM07lb",
        "outputId": "03524772-720e-41b3-a80c-39dfb4b28e6c"
      },
      "execution_count": 8,
      "outputs": [
        {
          "output_type": "stream",
          "name": "stdout",
          "text": [
            "(1, 2, 'Python', 4, 'Works', 'Python', 7, 8, 'Python', 'Works', 11, 'Python', 13, 14, 'HelloWorld', 16, 17, 'Python', 19, 'Works', 'Python', 22, 23, 'Python', 'Works', 26, 'Python', 28, 29, 'HelloWorld', 31, 32, 'Python', 34, 'Works', 'Python', 37, 38, 'Python', 'Works', 41, 'Python', 43, 44, 'HelloWorld', 46, 47, 'Python', 49, 'Works', 'Python', 52, 53, 'Python', 'Works', 56, 'Python', 58, 59, 'HelloWorld', 61, 62, 'Python', 64, 'Works', 'Python', 67, 68, 'Python', 'Works', 71, 'Python', 73, 74, 'HelloWorld', 76, 77, 'Python', 79, 'Works', 'Python', 82, 83, 'Python', 'Works', 86, 'Python', 88, 89, 'HelloWorld', 91, 92, 'Python', 94, 'Works', 'Python', 97, 98, 'Python', 'Works')\n"
          ]
        }
      ]
    },
    {
      "cell_type": "markdown",
      "source": [
        "# *Problem No.2:*\n",
        "**The swap**"
      ],
      "metadata": {
        "id": "ohOODTkWvbZG"
      }
    },
    {
      "cell_type": "markdown",
      "source": [
        "Write a program that swaps the values of two input variables x and y from command line (whatever the type).\n",
        "\n",
        "Try to do that without using a temporary variable, exploiting the Python syntax."
      ],
      "metadata": {
        "id": "YsyPsIIrwIsr"
      }
    },
    {
      "cell_type": "code",
      "source": [
        "x = int(input(\"Enter first number:\"))\n",
        "y = int(input(\"Enter second number:\"))\n",
        "print(\"x and y are:\", x , \"&\" , y)\n",
        "x , y = y , x \n",
        "print(\"After Swapping the result will be:\",\"x =\",x, \"&\",\"y =\",y)"
      ],
      "metadata": {
        "colab": {
          "base_uri": "https://localhost:8080/"
        },
        "id": "-i56HH7NvjkT",
        "outputId": "7bf2db4a-f9f3-4c1a-ac1b-765ec6e98287"
      },
      "execution_count": null,
      "outputs": [
        {
          "output_type": "stream",
          "name": "stdout",
          "text": [
            "Enter first number:1\n",
            "Enter second number:2\n",
            "x and y are: 1 & 2\n",
            "After Swapping the result will be: x = 2 & y = 1\n"
          ]
        }
      ]
    },
    {
      "cell_type": "markdown",
      "source": [
        "# ***Problem No.3:***\n",
        "**Computing the distance**"
      ],
      "metadata": {
        "id": "8D9IJikgyyl3"
      }
    },
    {
      "cell_type": "markdown",
      "source": [
        "Write a function that calculates and returns the euclidean distance between two points u and v in a 2D space, where u and v are both 2-tuples (x,y).\n",
        "\n",
        "Example: if u=(3,0) and v=(0,4), the function should return 5.\n",
        "\n",
        "Hint: in order to compute the square root, import the math library with import math and use math.sqrt()."
      ],
      "metadata": {
        "id": "Lo96r8lwzA5C"
      }
    },
    {
      "cell_type": "code",
      "source": [
        "#First of all import library we want\n",
        "import math\n",
        "def EuclideanDist(u,v):\n",
        "  #First calculate x\n",
        "  x = float(u[0]) - float(v[0])\n",
        "  #Second calculate y \n",
        "  y = float(u[1]) - float(v[1])\n",
        "  #Calculate distance\n",
        "  z = math.sqrt(pow(x,2) + pow(y,2))\n",
        "  return z \n",
        "u = tuple(input(\"Enter two dimentions x and y Values for u:\").split())\n",
        "v = tuple(input(\"Enter two dimentions x and y Values for v:\").split())\n",
        "print(EuclideanDist(u,v))\n"
      ],
      "metadata": {
        "colab": {
          "base_uri": "https://localhost:8080/"
        },
        "id": "Bs6iihgWzEjY",
        "outputId": "b1ad3343-0905-497f-99ca-cbe175a03a01"
      },
      "execution_count": null,
      "outputs": [
        {
          "output_type": "stream",
          "name": "stdout",
          "text": [
            "Enter two dimentions x and y Values for u:1 3\n",
            "Enter two dimentions x and y Values for v:2 4\n",
            "1.4142135623730951\n"
          ]
        }
      ]
    },
    {
      "cell_type": "markdown",
      "source": [
        "# ***Problem No.4:***\n",
        "**Counting letters**"
      ],
      "metadata": {
        "id": "3oucLtLI28t5"
      }
    },
    {
      "cell_type": "markdown",
      "source": [
        "Write a program that calculates the number of times each character occurs in a given string. Ignore differences in capitalization.\n",
        "\n",
        "The strings are in the cell below.\n",
        "\n",
        "s1 = \"Write a program that prints the numbers from 1 to 100. \\\n",
        "But for multiples of three print Hello instead of the number and for the multiples of five print World. \\\n",
        "For numbers which are multiples of both three and five print HelloWorld.\"\n",
        "\n",
        "s2 = \"The quick brown fox jumps over the lazy dog\""
      ],
      "metadata": {
        "id": "L2uNPncp3Iv1"
      }
    },
    {
      "cell_type": "code",
      "source": [
        "from collections import Counter\n",
        "#Combine two strings\n",
        "s1 = \"Write a program that prints the numbers from 1 to 100.But for multiples of three print Hello instead of the number and for the multiples of five print World.For numbers which are multiples of both three and five print HelloWorld.\"\n",
        "s2 = \"The quick brown fox jumps over the lazy dog\"\n",
        "s3 = s1 + s2\n",
        "print(\"Our sum string is:\",s3)\n",
        "s3 = s3.lower()\n",
        "collection = Counter(s3)\n",
        "print(collection)"
      ],
      "metadata": {
        "colab": {
          "base_uri": "https://localhost:8080/"
        },
        "id": "eBHakfx83RdK",
        "outputId": "97e35492-456f-4377-c74a-502870c546ea"
      },
      "execution_count": null,
      "outputs": [
        {
          "output_type": "stream",
          "name": "stdout",
          "text": [
            "Our sum string is: Write a program that prints the numbers from 1 to 100.But for multiples of three print Hello instead of the number and for the multiples of five print World.For numbers which are multiples of both three and five print HelloWorld.The quick brown fox jumps over the lazy dog\n",
            "Counter({' ': 47, 'e': 23, 'r': 21, 't': 21, 'o': 19, 'i': 13, 'h': 13, 'l': 13, 'n': 11, 'f': 11, 'p': 9, 'm': 9, 'u': 9, 'a': 8, 's': 8, 'b': 6, 'd': 6, 'w': 5, '.': 3, 'v': 3, 'g': 2, '1': 2, '0': 2, 'c': 2, 'q': 1, 'k': 1, 'x': 1, 'j': 1, 'z': 1, 'y': 1})\n"
          ]
        }
      ]
    },
    {
      "cell_type": "markdown",
      "source": [
        "# ***Problem No.5:***\n",
        "**Isolating the unique**"
      ],
      "metadata": {
        "id": "_Po_ebaIYdpR"
      }
    },
    {
      "cell_type": "markdown",
      "source": [
        "Write a program that determines and counts the unique numbers in the list:\n",
        "\n",
        "l = [36, 45, 58, 3, 74, 96, 64, 45, 31, 10, 24, 19, 33, 86, 99, 18, 63, 70, 85,\n",
        " 85, 63, 47, 56, 42, 70, 84, 88, 55, 20, 54, 8, 56, 51, 79, 81, 57, 37, 91,\n",
        " 1, 84, 84, 36, 66, 9, 89, 50, 42, 91, 50, 95, 90, 98, 39, 16, 82, 31, 92, 41,\n",
        " 45, 30, 66, 70, 34, 85, 94, 5, 3, 36, 72, 91, 84, 34, 87, 75, 53, 51, 20, 89, 51, 20]"
      ],
      "metadata": {
        "id": "Re1WCyv1YlkB"
      }
    },
    {
      "cell_type": "code",
      "source": [
        "#First solution:\n",
        "l = [36, 45, 58, 3, 74, 96, 64, 45, 31, 10, 24, 19, 33, 86, 99, 18, 63, 70, 85,\n",
        " 85, 63, 47, 56, 42, 70, 84, 88, 55, 20, 54, 8, 56, 51, 79, 81, 57, 37, 91,\n",
        " 1, 84, 84, 36, 66, 9, 89, 50, 42, 91, 50, 95, 90, 98, 39, 16, 82, 31, 92, 41,\n",
        " 45, 30, 66, 70, 34, 85, 94, 5, 3, 36, 72, 91, 84, 34, 87, 75, 53, 51, 20, 89, 51, 20]\n",
        "#This method will give us the sorted answer\n",
        "ListOfUniqueValues = set(l)\n",
        "print(\"The list with unique values is:\", ListOfUniqueValues)\n",
        "print(\"And the length of it is:\", len(ListOfUniqueValues))"
      ],
      "metadata": {
        "colab": {
          "base_uri": "https://localhost:8080/"
        },
        "id": "tWAvXiKWYoFL",
        "outputId": "68eed6bc-944a-4f32-9ef4-363b32de2f3c"
      },
      "execution_count": null,
      "outputs": [
        {
          "output_type": "stream",
          "name": "stdout",
          "text": [
            "The list with unique values is: {1, 3, 5, 8, 9, 10, 16, 18, 19, 20, 24, 30, 31, 33, 34, 36, 37, 39, 41, 42, 45, 47, 50, 51, 53, 54, 55, 56, 57, 58, 63, 64, 66, 70, 72, 74, 75, 79, 81, 82, 84, 85, 86, 87, 88, 89, 90, 91, 92, 94, 95, 96, 98, 99}\n",
            "And the length of it is: 54\n"
          ]
        }
      ]
    },
    {
      "cell_type": "code",
      "source": [
        "#Second solution:\n",
        "l = [36, 45, 58, 3, 74, 96, 64, 45, 31, 10, 24, 19, 33, 86, 99, 18, 63, 70, 85,\n",
        " 85, 63, 47, 56, 42, 70, 84, 88, 55, 20, 54, 8, 56, 51, 79, 81, 57, 37, 91,\n",
        " 1, 84, 84, 36, 66, 9, 89, 50, 42, 91, 50, 95, 90, 98, 39, 16, 82, 31, 92, 41,\n",
        " 45, 30, 66, 70, 34, 85, 94, 5, 3, 36, 72, 91, 84, 34, 87, 75, 53, 51, 20, 89, 51, 20] \n",
        "ListOfUniqueValues = [ x for i, x in enumerate(l) if x not in l[:i]]\n",
        "print(ListOfUniqueValues)\n",
        "print(\"No of unique items in the list are:\", len(ListOfUniqueValues))"
      ],
      "metadata": {
        "colab": {
          "base_uri": "https://localhost:8080/"
        },
        "id": "mCjBlvWEd87U",
        "outputId": "ca8dbe53-fda5-45b6-f2cf-fce52e048972"
      },
      "execution_count": null,
      "outputs": [
        {
          "output_type": "stream",
          "name": "stdout",
          "text": [
            "[36, 45, 58, 3, 74, 96, 64, 31, 10, 24, 19, 33, 86, 99, 18, 63, 70, 85, 47, 56, 42, 84, 88, 55, 20, 54, 8, 51, 79, 81, 57, 37, 91, 1, 66, 9, 89, 50, 95, 90, 98, 39, 16, 82, 92, 41, 30, 34, 94, 5, 72, 87, 75, 53]\n",
            "No of unique items in the list are: 54\n"
          ]
        }
      ]
    },
    {
      "cell_type": "code",
      "source": [
        "#Third solution:\n",
        "l = [36, 45, 58, 3, 74, 96, 64, 45, 31, 10, 24, 19, 33, 86, 99, 18, 63, 70, 85,\n",
        " 85, 63, 47, 56, 42, 70, 84, 88, 55, 20, 54, 8, 56, 51, 79, 81, 57, 37, 91,\n",
        " 1, 84, 84, 36, 66, 9, 89, 50, 42, 91, 50, 95, 90, 98, 39, 16, 82, 31, 92, 41,\n",
        " 45, 30, 66, 70, 34, 85, 94, 5, 3, 36, 72, 91, 84, 34, 87, 75, 53, 51, 20, 89, 51, 20] \n",
        "count = 0\n",
        "ListOfUniqueValues = []\n",
        "for x in l:\n",
        "    if x not in ListOfUniqueValues:\n",
        "        count += 1\n",
        "        ListOfUniqueValues.append(x)\n",
        " \n",
        "print(\"The list with unique values is:\",ListOfUniqueValues)\n",
        "print(\"And the length of it is:\", count)"
      ],
      "metadata": {
        "colab": {
          "base_uri": "https://localhost:8080/"
        },
        "id": "I2VGlWfBenWU",
        "outputId": "21d01367-c95c-4166-a49b-9ab8508bcd07"
      },
      "execution_count": null,
      "outputs": [
        {
          "output_type": "stream",
          "name": "stdout",
          "text": [
            "The list with unique values is: [36, 45, 58, 3, 74, 96, 64, 31, 10, 24, 19, 33, 86, 99, 18, 63, 70, 85, 47, 56, 42, 84, 88, 55, 20, 54, 8, 51, 79, 81, 57, 37, 91, 1, 66, 9, 89, 50, 95, 90, 98, 39, 16, 82, 92, 41, 30, 34, 94, 5, 72, 87, 75, 53]\n",
            "And the length of it is: 54\n"
          ]
        }
      ]
    },
    {
      "cell_type": "markdown",
      "source": [
        "Other way to solve the problem:"
      ],
      "metadata": {
        "id": "297S8gUMWEkY"
      }
    },
    {
      "cell_type": "code",
      "source": [
        "l = [36, 45, 58, 3, 74, 96, 64, 45, 31, 10, 24, 19, 33, 86, 99, 18, 63, 70, 85,85, 63, 47, 56, 42, 70, 84, 88, 55, 20, 54, 8, 56, 51, 79, 81, 57, 37, 91,1, 84, 84, 36, 66, 9, 89, 50, 42, 91, 50, 95, 90, 98, 39, 16, 82, 31, 92, 41,45, 30, 66, 70, 34, 85, 94, 5, 3, 36, 72, 91, 84, 34, 87, 75, 53, 51, 20, 89, 51, 20]\n",
        "l = l.sort()\n",
        "print(l)"
      ],
      "metadata": {
        "colab": {
          "base_uri": "https://localhost:8080/"
        },
        "id": "iTQ3zLX_WJQH",
        "outputId": "2b7ba076-acf5-44de-b107-ed2af0f6e914"
      },
      "execution_count": null,
      "outputs": [
        {
          "output_type": "stream",
          "name": "stdout",
          "text": [
            "None\n"
          ]
        }
      ]
    },
    {
      "cell_type": "markdown",
      "source": [
        "# ***Problem No.6:***\n",
        "Casting\n"
      ],
      "metadata": {
        "id": "0thk64GZHYk-"
      }
    },
    {
      "cell_type": "markdown",
      "source": [
        "a)reads from command line two variables, that can be either int, float, or str."
      ],
      "metadata": {
        "id": "SBE6ZLYVHlPm"
      }
    },
    {
      "cell_type": "code",
      "source": [
        "x = input(\"Enter the fisrt variable:\")\n",
        "y = input(\"Enter the second variable:\")"
      ],
      "metadata": {
        "colab": {
          "base_uri": "https://localhost:8080/"
        },
        "id": "kED3_EqjHtX9",
        "outputId": "b24db724-db6b-4075-ec64-a8c2ac7e4a77"
      },
      "execution_count": 1,
      "outputs": [
        {
          "name": "stdout",
          "output_type": "stream",
          "text": [
            "Enter the fisrt variable:1\n",
            "Enter the second variable:2\n"
          ]
        }
      ]
    },
    {
      "cell_type": "markdown",
      "source": [
        "b)use the try/except expressions to perform the addition of these two variables, only if possible"
      ],
      "metadata": {
        "id": "X_tSVf5LH5xs"
      }
    },
    {
      "cell_type": "code",
      "source": [
        "x = input(\"Enter the fisrt variable:\")\n",
        "y = input(\"Enter the second variable:\")\n",
        "z = x + y\n",
        "try:\n",
        "  x = int(x)\n",
        "  y = int(y)\n",
        "  z = x + y\n",
        "  print(\"The sum of two integer is:\",z)\n",
        "except:\n",
        "  print(\"The sum is not possible.(two integer)\")\n",
        "\n",
        "try:\n",
        "  x = float(x)\n",
        "  y = float(y)\n",
        "  print(\"The sum of two float is:\",z2)\n",
        "except:\n",
        "  print(\"The sum is not possible.(two flaot)\")\n",
        "\n",
        "try:\n",
        "  x = str(x)\n",
        "  y = str(y)\n",
        "  print(\"For all inputs if we consider them as string, the result will be:\",z)\n",
        "  print(\"No error if we condsider everything as string :)\")\n",
        "except:\n",
        "  print(\"You will never see this line :)\")\n",
        "\n"
      ],
      "metadata": {
        "colab": {
          "base_uri": "https://localhost:8080/"
        },
        "id": "l4s16HSzH6eV",
        "outputId": "f05265fe-017c-46b0-c3d3-3187fec1514e"
      },
      "execution_count": 12,
      "outputs": [
        {
          "output_type": "stream",
          "name": "stdout",
          "text": [
            "Enter the fisrt variable:1\n",
            "Enter the second variable:a\n",
            "The sum is not possible.(two integer)\n",
            "The sum is not possible.(two flaot)\n",
            "For all inputs if we consider them as string, the result will be: 1a\n",
            "No error if we condsider everything as string :)\n"
          ]
        }
      ]
    },
    {
      "cell_type": "markdown",
      "source": [
        "# ***Problem No.7:***\n",
        "**Cubes**"
      ],
      "metadata": {
        "id": "ZRDwehB8fhZ7"
      }
    },
    {
      "cell_type": "markdown",
      "source": [
        "Create a list of the cubes of x for x in [0, 10] using:\n",
        "\n",
        "a) a for loop"
      ],
      "metadata": {
        "id": "_0jDnVZ1foJK"
      }
    },
    {
      "cell_type": "code",
      "source": [
        "l = []\n",
        "for i in range(1,11):\n",
        "  a = i ** 3\n",
        "  l.append(a)\n",
        "print(l)"
      ],
      "metadata": {
        "colab": {
          "base_uri": "https://localhost:8080/"
        },
        "id": "j-enDN-PfrEh",
        "outputId": "6c7f33ce-52c3-4610-ab2c-2f37703e0d22"
      },
      "execution_count": null,
      "outputs": [
        {
          "output_type": "stream",
          "name": "stdout",
          "text": [
            "[1, 8, 27, 64, 125, 216, 343, 512, 729, 1000]\n"
          ]
        }
      ]
    },
    {
      "cell_type": "markdown",
      "source": [
        "b) a list comprehension"
      ],
      "metadata": {
        "id": "kjnomdi-gOWT"
      }
    },
    {
      "cell_type": "code",
      "source": [
        "l = [1,2,3,4,5,6,7,8,9,10]\n",
        "cube = [pow(i, 3) for i in l]\n",
        "print(cube)"
      ],
      "metadata": {
        "colab": {
          "base_uri": "https://localhost:8080/"
        },
        "id": "1tRTx4SIgPrq",
        "outputId": "b6fe3315-76d4-4b5b-f314-cb9a2e4b2be1"
      },
      "execution_count": null,
      "outputs": [
        {
          "output_type": "stream",
          "name": "stdout",
          "text": [
            "[1, 8, 27, 64, 125, 216, 343, 512, 729, 1000]\n"
          ]
        }
      ]
    },
    {
      "cell_type": "markdown",
      "source": [
        "# ***Problem No.8:***\n",
        "**List comprehension**"
      ],
      "metadata": {
        "id": "wms7rmCNhTuL"
      }
    },
    {
      "cell_type": "markdown",
      "source": [
        "Write, using the list comprehension, a single-line expression that gets the same result as the code in the cell below."
      ],
      "metadata": {
        "id": "vi1V1Z9Fhb3L"
      }
    },
    {
      "cell_type": "code",
      "source": [
        "a = []\n",
        "for i in range(3):\n",
        "    for j in range(4):\n",
        "        a.append((i, j))\n",
        "print(a)"
      ],
      "metadata": {
        "colab": {
          "base_uri": "https://localhost:8080/"
        },
        "id": "jx4QzZFzhhz-",
        "outputId": "48316411-321b-4bac-920e-27b70df12fac"
      },
      "execution_count": null,
      "outputs": [
        {
          "output_type": "stream",
          "name": "stdout",
          "text": [
            "[(0, 0), (0, 1), (0, 2), (0, 3), (1, 0), (1, 1), (1, 2), (1, 3), (2, 0), (2, 1), (2, 2), (2, 3)]\n"
          ]
        }
      ]
    },
    {
      "cell_type": "code",
      "source": [
        "#Solution:\n",
        "a = [(x,y) for x in range(3) for y in range(4)]\n",
        "print(a)"
      ],
      "metadata": {
        "colab": {
          "base_uri": "https://localhost:8080/"
        },
        "id": "jkDdGxNwhlv6",
        "outputId": "9dc0ca17-a71a-44b3-807e-1f77f98b95d5"
      },
      "execution_count": null,
      "outputs": [
        {
          "output_type": "stream",
          "name": "stdout",
          "text": [
            "[(0, 0), (0, 1), (0, 2), (0, 3), (1, 0), (1, 1), (1, 2), (1, 3), (2, 0), (2, 1), (2, 2), (2, 3)]\n"
          ]
        }
      ]
    },
    {
      "cell_type": "markdown",
      "source": [
        "# ***Problem No.9:***\n",
        "**Nested list comprehension**"
      ],
      "metadata": {
        "id": "4OysKwigi3Ga"
      }
    },
    {
      "cell_type": "markdown",
      "source": [
        "A Pythagorean triple is an integer solution to the Pythagorean theorem a^2 + b^2 = c^2 . The first Pythagorean triple is (3, 4, 5).\n",
        "\n",
        "Find and put in a tuple all unique Pythagorean triples for the positive integers ,  and  with all possible integers a,b and c with c <100 ."
      ],
      "metadata": {
        "id": "dZiHrAZ0jUQR"
      }
    },
    {
      "cell_type": "code",
      "source": [
        "[(a,b,c) for c in range(1,101) for a in range(c) for b in range(a) if a**2 + b**2 == c**2]"
      ],
      "metadata": {
        "id": "Ajh_D8OFjnbU",
        "colab": {
          "base_uri": "https://localhost:8080/"
        },
        "outputId": "33c6765e-65ef-4442-ff28-e064d1205533"
      },
      "execution_count": 4,
      "outputs": [
        {
          "output_type": "execute_result",
          "data": {
            "text/plain": [
              "[(4, 3, 5),\n",
              " (8, 6, 10),\n",
              " (12, 5, 13),\n",
              " (12, 9, 15),\n",
              " (15, 8, 17),\n",
              " (16, 12, 20),\n",
              " (20, 15, 25),\n",
              " (24, 7, 25),\n",
              " (24, 10, 26),\n",
              " (21, 20, 29),\n",
              " (24, 18, 30),\n",
              " (30, 16, 34),\n",
              " (28, 21, 35),\n",
              " (35, 12, 37),\n",
              " (36, 15, 39),\n",
              " (32, 24, 40),\n",
              " (40, 9, 41),\n",
              " (36, 27, 45),\n",
              " (40, 30, 50),\n",
              " (48, 14, 50),\n",
              " (45, 24, 51),\n",
              " (48, 20, 52),\n",
              " (45, 28, 53),\n",
              " (44, 33, 55),\n",
              " (42, 40, 58),\n",
              " (48, 36, 60),\n",
              " (60, 11, 61),\n",
              " (52, 39, 65),\n",
              " (56, 33, 65),\n",
              " (60, 25, 65),\n",
              " (63, 16, 65),\n",
              " (60, 32, 68),\n",
              " (56, 42, 70),\n",
              " (55, 48, 73),\n",
              " (70, 24, 74),\n",
              " (60, 45, 75),\n",
              " (72, 21, 75),\n",
              " (72, 30, 78),\n",
              " (64, 48, 80),\n",
              " (80, 18, 82),\n",
              " (68, 51, 85),\n",
              " (75, 40, 85),\n",
              " (77, 36, 85),\n",
              " (84, 13, 85),\n",
              " (63, 60, 87),\n",
              " (80, 39, 89),\n",
              " (72, 54, 90),\n",
              " (84, 35, 91),\n",
              " (76, 57, 95),\n",
              " (72, 65, 97),\n",
              " (80, 60, 100),\n",
              " (96, 28, 100)]"
            ]
          },
          "metadata": {},
          "execution_count": 4
        }
      ]
    },
    {
      "cell_type": "markdown",
      "source": [
        "# ***Problem No.10:***\n",
        "**Normalization of a N-dimensional vector**"
      ],
      "metadata": {
        "id": "ihMHLiMFkviB"
      }
    },
    {
      "cell_type": "markdown",
      "source": [
        "Write a program that takes an N-dimensional vector, e.g. a variable-length tuple of numbers, and normalizes it to one (in such a way that the squared sum of all the entries is equal to 1)"
      ],
      "metadata": {
        "id": "tkhPStkAk2uo"
      }
    },
    {
      "cell_type": "code",
      "source": [
        "import math\n",
        "vector = tuple(input(\"Enter vector:\").split())\n",
        "l = []\n",
        "sum = 0\n",
        "for i in range (0,len(vector)):\n",
        "  l.append(vector[i])\n",
        "for x in l:\n",
        "  a = (int(x)**2)\n",
        "  sum += a\n",
        "print(\"The magnitude is = sqrt of\",sum , \"(\",math.sqrt(sum),\")\")\n",
        "print(\"For normalizing we should divide every arrays by magnitude\")\n",
        "for y in range(len(l)):\n",
        "  l[y] = float(l[y])/math.sqrt(sum)\n",
        "print(l)\n"
      ],
      "metadata": {
        "id": "2_vzA4eXlE6_",
        "colab": {
          "base_uri": "https://localhost:8080/"
        },
        "outputId": "a5cbeb97-18bd-4d4e-abe7-169cc63f074c"
      },
      "execution_count": 3,
      "outputs": [
        {
          "output_type": "stream",
          "name": "stdout",
          "text": [
            "Enter vector:1 2 3 \n",
            "The magnitude is = sqrt of 14 ( 3.7416573867739413 )\n",
            "For normalizing we should divide every arrays by magnitude\n",
            "[0.2672612419124244, 0.5345224838248488, 0.8017837257372732]\n"
          ]
        }
      ]
    },
    {
      "cell_type": "markdown",
      "source": [
        "# ***Problem No.11:***\n",
        "**The Fibonacci sequence**"
      ],
      "metadata": {
        "id": "bZkJjkCfmz5X"
      }
    },
    {
      "cell_type": "markdown",
      "source": [
        "Calculate the first 20 numbers of the Fibonacci sequence using only for or while loops."
      ],
      "metadata": {
        "id": "Faj5Z_Msm6Tn"
      }
    },
    {
      "cell_type": "code",
      "source": [
        "FirstNumber = 0 \n",
        "SecondNumber = 1\n",
        "count = 0\n",
        "limit = 20\n",
        "while count < limit:\n",
        "       print(FirstNumber)\n",
        "       NextNumber = FirstNumber + SecondNumber\n",
        "       FirstNumber = SecondNumber\n",
        "       SecondNumber = NextNumber\n",
        "       count += 1"
      ],
      "metadata": {
        "colab": {
          "base_uri": "https://localhost:8080/"
        },
        "id": "dUz4mshsm8ra",
        "outputId": "df314930-c5dd-4cfe-a952-71977ff76219"
      },
      "execution_count": null,
      "outputs": [
        {
          "output_type": "stream",
          "name": "stdout",
          "text": [
            "0\n",
            "1\n",
            "1\n",
            "2\n",
            "3\n",
            "5\n",
            "8\n",
            "13\n",
            "21\n",
            "34\n",
            "55\n",
            "89\n",
            "144\n",
            "233\n",
            "377\n",
            "610\n",
            "987\n",
            "1597\n",
            "2584\n",
            "4181\n"
          ]
        }
      ]
    }
  ]
}